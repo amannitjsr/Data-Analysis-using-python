{
  "nbformat": 4,
  "nbformat_minor": 0,
  "metadata": {
    "colab": {
      "name": "Zscore and percentile outliers cleaner.ipynb",
      "provenance": [],
      "mount_file_id": "1Vb0oKPrZbYqLiK1bajbNsBkIyHETWCkg",
      "authorship_tag": "ABX9TyM+d+Ek2nAQAcFvjAo+oGZ9",
      "include_colab_link": true
    },
    "kernelspec": {
      "name": "python3",
      "display_name": "Python 3"
    },
    "language_info": {
      "name": "python"
    }
  },
  "cells": [
    {
      "cell_type": "markdown",
      "metadata": {
        "id": "view-in-github",
        "colab_type": "text"
      },
      "source": [
        "<a href=\"https://colab.research.google.com/github/amannitjsr/Data-Analysis-using-python/blob/main/Zscore_and_percentile_outliers_cleaner.ipynb\" target=\"_parent\"><img src=\"https://colab.research.google.com/assets/colab-badge.svg\" alt=\"Open In Colab\"/></a>"
      ]
    },
    {
      "cell_type": "code",
      "execution_count": 1,
      "metadata": {
        "id": "P5VH45kssMBP"
      },
      "outputs": [],
      "source": [
        "#started\n",
        "#Importing file \n",
        "import numpy as np\n",
        "import pandas as pd\n",
        "import matplotlib.pyplot as plt\n",
        "import seaborn as sns\n",
        "from sklearn.model_selection import train_test_split\n",
        "\n",
        "from sklearn.linear_model import LinearRegression\n",
        "\n",
        "from sklearn.metrics import accuracy_score\n",
        "from sklearn.metrics import r2_score\n",
        "from sklearn import linear_model\n",
        "\n",
        "from bs4 import BeautifulSoup\n",
        "import requests"
      ]
    },
    {
      "cell_type": "code",
      "source": [
        "df = pd.read_csv('/content/drive/MyDrive/machine learning/data.csv')"
      ],
      "metadata": {
        "id": "0p2mRmi4uva_"
      },
      "execution_count": 2,
      "outputs": []
    },
    {
      "cell_type": "code",
      "source": [
        "df.head(1)"
      ],
      "metadata": {
        "colab": {
          "base_uri": "https://localhost:8080/",
          "height": 179
        },
        "id": "8RJotDlesT0I",
        "outputId": "38c5033c-12dd-4ea4-a42d-522a8e99a4f2"
      },
      "execution_count": 3,
      "outputs": [
        {
          "output_type": "execute_result",
          "data": {
            "text/plain": [
              "                  date     price  bedrooms  bathrooms  sqft_living  sqft_lot  \\\n",
              "0  2014-05-02 00:00:00  313000.0       3.0        1.5         1340      7912   \n",
              "\n",
              "   floors  waterfront  view  condition  sqft_above  sqft_basement  yr_built  \\\n",
              "0     1.5           0     0          3        1340              0      1955   \n",
              "\n",
              "   yr_renovated                street       city  statezip country  \n",
              "0          2005  18810 Densmore Ave N  Shoreline  WA 98133     USA  "
            ],
            "text/html": [
              "\n",
              "  <div id=\"df-dda7f7bf-8b14-4430-a09d-33de1a8f3098\">\n",
              "    <div class=\"colab-df-container\">\n",
              "      <div>\n",
              "<style scoped>\n",
              "    .dataframe tbody tr th:only-of-type {\n",
              "        vertical-align: middle;\n",
              "    }\n",
              "\n",
              "    .dataframe tbody tr th {\n",
              "        vertical-align: top;\n",
              "    }\n",
              "\n",
              "    .dataframe thead th {\n",
              "        text-align: right;\n",
              "    }\n",
              "</style>\n",
              "<table border=\"1\" class=\"dataframe\">\n",
              "  <thead>\n",
              "    <tr style=\"text-align: right;\">\n",
              "      <th></th>\n",
              "      <th>date</th>\n",
              "      <th>price</th>\n",
              "      <th>bedrooms</th>\n",
              "      <th>bathrooms</th>\n",
              "      <th>sqft_living</th>\n",
              "      <th>sqft_lot</th>\n",
              "      <th>floors</th>\n",
              "      <th>waterfront</th>\n",
              "      <th>view</th>\n",
              "      <th>condition</th>\n",
              "      <th>sqft_above</th>\n",
              "      <th>sqft_basement</th>\n",
              "      <th>yr_built</th>\n",
              "      <th>yr_renovated</th>\n",
              "      <th>street</th>\n",
              "      <th>city</th>\n",
              "      <th>statezip</th>\n",
              "      <th>country</th>\n",
              "    </tr>\n",
              "  </thead>\n",
              "  <tbody>\n",
              "    <tr>\n",
              "      <th>0</th>\n",
              "      <td>2014-05-02 00:00:00</td>\n",
              "      <td>313000.0</td>\n",
              "      <td>3.0</td>\n",
              "      <td>1.5</td>\n",
              "      <td>1340</td>\n",
              "      <td>7912</td>\n",
              "      <td>1.5</td>\n",
              "      <td>0</td>\n",
              "      <td>0</td>\n",
              "      <td>3</td>\n",
              "      <td>1340</td>\n",
              "      <td>0</td>\n",
              "      <td>1955</td>\n",
              "      <td>2005</td>\n",
              "      <td>18810 Densmore Ave N</td>\n",
              "      <td>Shoreline</td>\n",
              "      <td>WA 98133</td>\n",
              "      <td>USA</td>\n",
              "    </tr>\n",
              "  </tbody>\n",
              "</table>\n",
              "</div>\n",
              "      <button class=\"colab-df-convert\" onclick=\"convertToInteractive('df-dda7f7bf-8b14-4430-a09d-33de1a8f3098')\"\n",
              "              title=\"Convert this dataframe to an interactive table.\"\n",
              "              style=\"display:none;\">\n",
              "        \n",
              "  <svg xmlns=\"http://www.w3.org/2000/svg\" height=\"24px\"viewBox=\"0 0 24 24\"\n",
              "       width=\"24px\">\n",
              "    <path d=\"M0 0h24v24H0V0z\" fill=\"none\"/>\n",
              "    <path d=\"M18.56 5.44l.94 2.06.94-2.06 2.06-.94-2.06-.94-.94-2.06-.94 2.06-2.06.94zm-11 1L8.5 8.5l.94-2.06 2.06-.94-2.06-.94L8.5 2.5l-.94 2.06-2.06.94zm10 10l.94 2.06.94-2.06 2.06-.94-2.06-.94-.94-2.06-.94 2.06-2.06.94z\"/><path d=\"M17.41 7.96l-1.37-1.37c-.4-.4-.92-.59-1.43-.59-.52 0-1.04.2-1.43.59L10.3 9.45l-7.72 7.72c-.78.78-.78 2.05 0 2.83L4 21.41c.39.39.9.59 1.41.59.51 0 1.02-.2 1.41-.59l7.78-7.78 2.81-2.81c.8-.78.8-2.07 0-2.86zM5.41 20L4 18.59l7.72-7.72 1.47 1.35L5.41 20z\"/>\n",
              "  </svg>\n",
              "      </button>\n",
              "      \n",
              "  <style>\n",
              "    .colab-df-container {\n",
              "      display:flex;\n",
              "      flex-wrap:wrap;\n",
              "      gap: 12px;\n",
              "    }\n",
              "\n",
              "    .colab-df-convert {\n",
              "      background-color: #E8F0FE;\n",
              "      border: none;\n",
              "      border-radius: 50%;\n",
              "      cursor: pointer;\n",
              "      display: none;\n",
              "      fill: #1967D2;\n",
              "      height: 32px;\n",
              "      padding: 0 0 0 0;\n",
              "      width: 32px;\n",
              "    }\n",
              "\n",
              "    .colab-df-convert:hover {\n",
              "      background-color: #E2EBFA;\n",
              "      box-shadow: 0px 1px 2px rgba(60, 64, 67, 0.3), 0px 1px 3px 1px rgba(60, 64, 67, 0.15);\n",
              "      fill: #174EA6;\n",
              "    }\n",
              "\n",
              "    [theme=dark] .colab-df-convert {\n",
              "      background-color: #3B4455;\n",
              "      fill: #D2E3FC;\n",
              "    }\n",
              "\n",
              "    [theme=dark] .colab-df-convert:hover {\n",
              "      background-color: #434B5C;\n",
              "      box-shadow: 0px 1px 3px 1px rgba(0, 0, 0, 0.15);\n",
              "      filter: drop-shadow(0px 1px 2px rgba(0, 0, 0, 0.3));\n",
              "      fill: #FFFFFF;\n",
              "    }\n",
              "  </style>\n",
              "\n",
              "      <script>\n",
              "        const buttonEl =\n",
              "          document.querySelector('#df-dda7f7bf-8b14-4430-a09d-33de1a8f3098 button.colab-df-convert');\n",
              "        buttonEl.style.display =\n",
              "          google.colab.kernel.accessAllowed ? 'block' : 'none';\n",
              "\n",
              "        async function convertToInteractive(key) {\n",
              "          const element = document.querySelector('#df-dda7f7bf-8b14-4430-a09d-33de1a8f3098');\n",
              "          const dataTable =\n",
              "            await google.colab.kernel.invokeFunction('convertToInteractive',\n",
              "                                                     [key], {});\n",
              "          if (!dataTable) return;\n",
              "\n",
              "          const docLinkHtml = 'Like what you see? Visit the ' +\n",
              "            '<a target=\"_blank\" href=https://colab.research.google.com/notebooks/data_table.ipynb>data table notebook</a>'\n",
              "            + ' to learn more about interactive tables.';\n",
              "          element.innerHTML = '';\n",
              "          dataTable['output_type'] = 'display_data';\n",
              "          await google.colab.output.renderOutput(dataTable, element);\n",
              "          const docLink = document.createElement('div');\n",
              "          docLink.innerHTML = docLinkHtml;\n",
              "          element.appendChild(docLink);\n",
              "        }\n",
              "      </script>\n",
              "    </div>\n",
              "  </div>\n",
              "  "
            ]
          },
          "metadata": {},
          "execution_count": 3
        }
      ]
    },
    {
      "cell_type": "code",
      "source": [
        "lower_limit , upper_limit = df.price.quantile([.003,.997])"
      ],
      "metadata": {
        "id": "Ogeq9tczsZHd"
      },
      "execution_count": 4,
      "outputs": []
    },
    {
      "cell_type": "code",
      "source": [
        "\n",
        "sns.histplot(sorted(df.price))"
      ],
      "metadata": {
        "colab": {
          "base_uri": "https://localhost:8080/",
          "height": 295
        },
        "id": "XyA-ibMGshIV",
        "outputId": "09f2b623-ee8e-4442-ba40-9f419dfba72d"
      },
      "execution_count": 5,
      "outputs": [
        {
          "output_type": "execute_result",
          "data": {
            "text/plain": [
              "<matplotlib.axes._subplots.AxesSubplot at 0x7f50d04870d0>"
            ]
          },
          "metadata": {},
          "execution_count": 5
        },
        {
          "output_type": "display_data",
          "data": {
            "text/plain": [
              "<Figure size 432x288 with 1 Axes>"
            ],
            "image/png": "[encoded data removed]"
          },
          "metadata": {
            "needs_background": "light"
          }
        }
      ]
    },
    {
      "cell_type": "code",
      "source": [
        "upper_limit"
      ],
      "metadata": {
        "colab": {
          "base_uri": "https://localhost:8080/"
        },
        "id": "sl6PXB5-uauX",
        "outputId": "e4e93707-2f7f-46f2-bb60-f08937f6d2ca"
      },
      "execution_count": 6,
      "outputs": [
        {
          "output_type": "execute_result",
          "data": {
            "text/plain": [
              "2684060.0000000084"
            ]
          },
          "metadata": {},
          "execution_count": 6
        }
      ]
    },
    {
      "cell_type": "code",
      "source": [
        "no_percentile = df[(df.price>lower_limit) & (df.price < upper_limit)]"
      ],
      "metadata": {
        "id": "JOS-8jPpufSV"
      },
      "execution_count": 7,
      "outputs": []
    },
    {
      "cell_type": "code",
      "source": [
        "df[(df.price<lower_limit) | (df.price >upper_limit)]"
      ],
      "metadata": {
        "id": "oCtu-9rIu5bH",
        "colab": {
          "base_uri": "https://localhost:8080/",
          "height": 1000
        },
        "outputId": "ac012ed3-7a8a-4520-943a-80cb307a266f"
      },
      "execution_count": 8,
      "outputs": [
        {
          "output_type": "execute_result",
          "data": {
            "text/plain": [
              "                     date       price  bedrooms  bathrooms  sqft_living  \\\n",
              "252   2014-05-07 00:00:00   3200000.0       7.0       4.50         6210   \n",
              "1132  2014-05-21 00:00:00   2700000.0       5.0       4.75         5305   \n",
              "1567  2014-05-29 00:00:00   3100000.0       6.0       4.25         6980   \n",
              "1571  2014-05-29 00:00:00   2750000.0       4.0       3.25         4430   \n",
              "1637  2014-05-30 00:00:00   3710000.0       4.0       3.50         5550   \n",
              "2083  2014-06-08 00:00:00   2700000.0       4.0       3.25         4420   \n",
              "2286  2014-06-11 00:00:00   7062500.0       5.0       4.50        10040   \n",
              "2328  2014-06-11 00:00:00   2888000.0       5.0       6.25         8670   \n",
              "2654  2014-06-17 00:00:00   4668000.0       5.0       6.75         9640   \n",
              "2761  2014-06-18 00:00:00   4489000.0       4.0       3.00         6430   \n",
              "2772  2014-06-18 00:00:00   3000000.0       4.0       4.25         4850   \n",
              "3729  2014-07-01 00:00:00   3800000.0       5.0       5.50         7050   \n",
              "4346  2014-06-23 00:00:00  12899000.0       3.0       2.50         2190   \n",
              "4350  2014-07-03 00:00:00  26590000.0       3.0       2.00         1180   \n",
              "\n",
              "      sqft_lot  floors  waterfront  view  condition  sqft_above  \\\n",
              "252       8856     2.5           0     2          5        4760   \n",
              "1132      8401     2.0           0     2          3        3745   \n",
              "1567     15682     3.0           0     4          4        5330   \n",
              "1571     21000     2.0           0     0          3        4430   \n",
              "1637     28078     2.0           0     2          4        3350   \n",
              "2083      7850     2.0           1     4          3        3150   \n",
              "2286     37325     2.0           1     2          3        7680   \n",
              "2328     64033     2.0           0     4          3        6120   \n",
              "2654     13068     1.0           1     4          3        4820   \n",
              "2761     27517     2.0           0     0          3        6430   \n",
              "2772     12445     2.0           1     4          5        3850   \n",
              "3729     42840     1.0           0     2          4        4320   \n",
              "4346     11394     1.0           0     0          3        1550   \n",
              "4350      7793     1.0           0     0          4        1180   \n",
              "\n",
              "      sqft_basement  yr_built  yr_renovated                       street  \\\n",
              "252            1450      1910             0            1230 Warren Ave N   \n",
              "1132           1560      2005             0                1010 6th St W   \n",
              "1567           1650      1999             0           5243 Forest Ave SE   \n",
              "1571              0      1952          2007              3239 78th Pl NE   \n",
              "1637           2200      2000             0              3222 78th Pl NE   \n",
              "2083           1270      2001             0             17834 SE 40th Pl   \n",
              "2286           2360      1940          2001             4442 95th Ave NE   \n",
              "2328           2550      1965          2003            1291 NW Elford Dr   \n",
              "2654           4820      1983          2009          5044 Butterworth Rd   \n",
              "2761              0      2001             0        1149-1199 91st Ave NE   \n",
              "2772           1000      1989             0  11031 Champagne Point Rd NE   \n",
              "3729           2730      1978          2000             1365 91st Ave NE   \n",
              "4346            640      1956          2001              5426 40th Ave W   \n",
              "4350              0      1992             0            12005 SE 219th Ct   \n",
              "\n",
              "               city  statezip country  \n",
              "252         Seattle  WA 98109     USA  \n",
              "1132       Kirkland  WA 98033     USA  \n",
              "1567  Mercer Island  WA 98040     USA  \n",
              "1571         Medina  WA 98039     USA  \n",
              "1637         Medina  WA 98039     USA  \n",
              "2083       Bellevue  WA 98008     USA  \n",
              "2286       Bellevue  WA 98004     USA  \n",
              "2328        Seattle  WA 98177     USA  \n",
              "2654  Mercer Island  WA 98040     USA  \n",
              "2761       Bellevue  WA 98004     USA  \n",
              "2772       Kirkland  WA 98034     USA  \n",
              "3729     Clyde Hill  WA 98004     USA  \n",
              "4346        Seattle  WA 98199     USA  \n",
              "4350           Kent  WA 98031     USA  "
            ],
            "text/html": [
              "\n",
              "  <div id=\"df-f691e451-d391-4642-a1c3-57f166fb22c5\">\n",
              "    <div class=\"colab-df-container\">\n",
              "      <div>\n",
              "<style scoped>\n",
              "    .dataframe tbody tr th:only-of-type {\n",
              "        vertical-align: middle;\n",
              "    }\n",
              "\n",
              "    .dataframe tbody tr th {\n",
              "        vertical-align: top;\n",
              "    }\n",
              "\n",
              "    .dataframe thead th {\n",
              "        text-align: right;\n",
              "    }\n",
              "</style>\n",
              "<table border=\"1\" class=\"dataframe\">\n",
              "  <thead>\n",
              "    <tr style=\"text-align: right;\">\n",
              "      <th></th>\n",
              "      <th>date</th>\n",
              "      <th>price</th>\n",
              "      <th>bedrooms</th>\n",
              "      <th>bathrooms</th>\n",
              "      <th>sqft_living</th>\n",
              "      <th>sqft_lot</th>\n",
              "      <th>floors</th>\n",
              "      <th>waterfront</th>\n",
              "      <th>view</th>\n",
              "      <th>condition</th>\n",
              "      <th>sqft_above</th>\n",
              "      <th>sqft_basement</th>\n",
              "      <th>yr_built</th>\n",
              "      <th>yr_renovated</th>\n",
              "      <th>street</th>\n",
              "      <th>city</th>\n",
              "      <th>statezip</th>\n",
              "      <th>country</th>\n",
              "    </tr>\n",
              "  </thead>\n",
              "  <tbody>\n",
              "    <tr>\n",
              "      <th>252</th>\n",
              "      <td>2014-05-07 00:00:00</td>\n",
              "      <td>3200000.0</td>\n",
              "      <td>7.0</td>\n",
              "      <td>4.50</td>\n",
              "      <td>6210</td>\n",
              "      <td>8856</td>\n",
              "      <td>2.5</td>\n",
              "      <td>0</td>\n",
              "      <td>2</td>\n",
              "      <td>5</td>\n",
              "      <td>4760</td>\n",
              "      <td>1450</td>\n",
              "      <td>1910</td>\n",
              "      <td>0</td>\n",
              "      <td>1230 Warren Ave N</td>\n",
              "      <td>Seattle</td>\n",
              "      <td>WA 98109</td>\n",
              "      <td>USA</td>\n",
              "    </tr>\n",
              "    <tr>\n",
              "      <th>1132</th>\n",
              "      <td>2014-05-21 00:00:00</td>\n",
              "      <td>2700000.0</td>\n",
              "      <td>5.0</td>\n",
              "      <td>4.75</td>\n",
              "      <td>5305</td>\n",
              "      <td>8401</td>\n",
              "      <td>2.0</td>\n",
              "      <td>0</td>\n",
              "      <td>2</td>\n",
              "      <td>3</td>\n",
              "      <td>3745</td>\n",
              "      <td>1560</td>\n",
              "      <td>2005</td>\n",
              "      <td>0</td>\n",
              "      <td>1010 6th St W</td>\n",
              "      <td>Kirkland</td>\n",
              "      <td>WA 98033</td>\n",
              "      <td>USA</td>\n",
              "    </tr>\n",
              "    <tr>\n",
              "      <th>1567</th>\n",
              "      <td>2014-05-29 00:00:00</td>\n",
              "      <td>3100000.0</td>\n",
              "      <td>6.0</td>\n",
              "      <td>4.25</td>\n",
              "      <td>6980</td>\n",
              "      <td>15682</td>\n",
              "      <td>3.0</td>\n",
              "      <td>0</td>\n",
              "      <td>4</td>\n",
              "      <td>4</td>\n",
              "      <td>5330</td>\n",
              "      <td>1650</td>\n",
              "      <td>1999</td>\n",
              "      <td>0</td>\n",
              "      <td>5243 Forest Ave SE</td>\n",
              "      <td>Mercer Island</td>\n",
              "      <td>WA 98040</td>\n",
              "      <td>USA</td>\n",
              "    </tr>\n",
              "    <tr>\n",
              "      <th>1571</th>\n",
              "      <td>2014-05-29 00:00:00</td>\n",
              "      <td>2750000.0</td>\n",
              "      <td>4.0</td>\n",
              "      <td>3.25</td>\n",
              "      <td>4430</td>\n",
              "      <td>21000</td>\n",
              "      <td>2.0</td>\n",
              "      <td>0</td>\n",
              "      <td>0</td>\n",
              "      <td>3</td>\n",
              "      <td>4430</td>\n",
              "      <td>0</td>\n",
              "      <td>1952</td>\n",
              "      <td>2007</td>\n",
              "      <td>3239 78th Pl NE</td>\n",
              "      <td>Medina</td>\n",
              "      <td>WA 98039</td>\n",
              "      <td>USA</td>\n",
              "    </tr>\n",
              "    <tr>\n",
              "      <th>1637</th>\n",
              "      <td>2014-05-30 00:00:00</td>\n",
              "      <td>3710000.0</td>\n",
              "      <td>4.0</td>\n",
              "      <td>3.50</td>\n",
              "      <td>5550</td>\n",
              "      <td>28078</td>\n",
              "      <td>2.0</td>\n",
              "      <td>0</td>\n",
              "      <td>2</td>\n",
              "      <td>4</td>\n",
              "      <td>3350</td>\n",
              "      <td>2200</td>\n",
              "      <td>2000</td>\n",
              "      <td>0</td>\n",
              "      <td>3222 78th Pl NE</td>\n",
              "      <td>Medina</td>\n",
              "      <td>WA 98039</td>\n",
              "      <td>USA</td>\n",
              "    </tr>\n",
              "    <tr>\n",
              "      <th>2083</th>\n",
              "      <td>2014-06-08 00:00:00</td>\n",
              "      <td>2700000.0</td>\n",
              "      <td>4.0</td>\n",
              "      <td>3.25</td>\n",
              "      <td>4420</td>\n",
              "      <td>7850</td>\n",
              "      <td>2.0</td>\n",
              "      <td>1</td>\n",
              "      <td>4</td>\n",
              "      <td>3</td>\n",
              "      <td>3150</td>\n",
              "      <td>1270</td>\n",
              "      <td>2001</td>\n",
              "      <td>0</td>\n",
              "      <td>17834 SE 40th Pl</td>\n",
              "      <td>Bellevue</td>\n",
              "      <td>WA 98008</td>\n",
              "      <td>USA</td>\n",
              "    </tr>\n",
              "    <tr>\n",
              "      <th>2286</th>\n",
              "      <td>2014-06-11 00:00:00</td>\n",
              "      <td>7062500.0</td>\n",
              "      <td>5.0</td>\n",
              "      <td>4.50</td>\n",
              "      <td>10040</td>\n",
              "      <td>37325</td>\n",
              "      <td>2.0</td>\n",
              "      <td>1</td>\n",
              "      <td>2</td>\n",
              "      <td>3</td>\n",
              "      <td>7680</td>\n",
              "      <td>2360</td>\n",
              "      <td>1940</td>\n",
              "      <td>2001</td>\n",
              "      <td>4442 95th Ave NE</td>\n",
              "      <td>Bellevue</td>\n",
              "      <td>WA 98004</td>\n",
              "      <td>USA</td>\n",
              "    </tr>\n",
              "    <tr>\n",
              "      <th>2328</th>\n",
              "      <td>2014-06-11 00:00:00</td>\n",
              "      <td>2888000.0</td>\n",
              "      <td>5.0</td>\n",
              "      <td>6.25</td>\n",
              "      <td>8670</td>\n",
              "      <td>64033</td>\n",
              "      <td>2.0</td>\n",
              "      <td>0</td>\n",
              "      <td>4</td>\n",
              "      <td>3</td>\n",
              "      <td>6120</td>\n",
              "      <td>2550</td>\n",
              "      <td>1965</td>\n",
              "      <td>2003</td>\n",
              "      <td>1291 NW Elford Dr</td>\n",
              "      <td>Seattle</td>\n",
              "      <td>WA 98177</td>\n",
              "      <td>USA</td>\n",
              "    </tr>\n",
              "    <tr>\n",
              "      <th>2654</th>\n",
              "      <td>2014-06-17 00:00:00</td>\n",
              "      <td>4668000.0</td>\n",
              "      <td>5.0</td>\n",
              "      <td>6.75</td>\n",
              "      <td>9640</td>\n",
              "      <td>13068</td>\n",
              "      <td>1.0</td>\n",
              "      <td>1</td>\n",
              "      <td>4</td>\n",
              "      <td>3</td>\n",
              "      <td>4820</td>\n",
              "      <td>4820</td>\n",
              "      <td>1983</td>\n",
              "      <td>2009</td>\n",
              "      <td>5044 Butterworth Rd</td>\n",
              "      <td>Mercer Island</td>\n",
              "      <td>WA 98040</td>\n",
              "      <td>USA</td>\n",
              "    </tr>\n",
              "    <tr>\n",
              "      <th>2761</th>\n",
              "      <td>2014-06-18 00:00:00</td>\n",
              "      <td>4489000.0</td>\n",
              "      <td>4.0</td>\n",
              "      <td>3.00</td>\n",
              "      <td>6430</td>\n",
              "      <td>27517</td>\n",
              "      <td>2.0</td>\n",
              "      <td>0</td>\n",
              "      <td>0</td>\n",
              "      <td>3</td>\n",
              "      <td>6430</td>\n",
              "      <td>0</td>\n",
              "      <td>2001</td>\n",
              "      <td>0</td>\n",
              "      <td>1149-1199 91st Ave NE</td>\n",
              "      <td>Bellevue</td>\n",
              "      <td>WA 98004</td>\n",
              "      <td>USA</td>\n",
              "    </tr>\n",
              "    <tr>\n",
              "      <th>2772</th>\n",
              "      <td>2014-06-18 00:00:00</td>\n",
              "      <td>3000000.0</td>\n",
              "      <td>4.0</td>\n",
              "      <td>4.25</td>\n",
              "      <td>4850</td>\n",
              "      <td>12445</td>\n",
              "      <td>2.0</td>\n",
              "      <td>1</td>\n",
              "      <td>4</td>\n",
              "      <td>5</td>\n",
              "      <td>3850</td>\n",
              "      <td>1000</td>\n",
              "      <td>1989</td>\n",
              "      <td>0</td>\n",
              "      <td>11031 Champagne Point Rd NE</td>\n",
              "      <td>Kirkland</td>\n",
              "      <td>WA 98034</td>\n",
              "      <td>USA</td>\n",
              "    </tr>\n",
              "    <tr>\n",
              "      <th>3729</th>\n",
              "      <td>2014-07-01 00:00:00</td>\n",
              "      <td>3800000.0</td>\n",
              "      <td>5.0</td>\n",
              "      <td>5.50</td>\n",
              "      <td>7050</td>\n",
              "      <td>42840</td>\n",
              "      <td>1.0</td>\n",
              "      <td>0</td>\n",
              "      <td>2</td>\n",
              "      <td>4</td>\n",
              "      <td>4320</td>\n",
              "      <td>2730</td>\n",
              "      <td>1978</td>\n",
              "      <td>2000</td>\n",
              "      <td>1365 91st Ave NE</td>\n",
              "      <td>Clyde Hill</td>\n",
              "      <td>WA 98004</td>\n",
              "      <td>USA</td>\n",
              "    </tr>\n",
              "    <tr>\n",
              "      <th>4346</th>\n",
              "      <td>2014-06-23 00:00:00</td>\n",
              "      <td>12899000.0</td>\n",
              "      <td>3.0</td>\n",
              "      <td>2.50</td>\n",
              "      <td>2190</td>\n",
              "      <td>11394</td>\n",
              "      <td>1.0</td>\n",
              "      <td>0</td>\n",
              "      <td>0</td>\n",
              "      <td>3</td>\n",
              "      <td>1550</td>\n",
              "      <td>640</td>\n",
              "      <td>1956</td>\n",
              "      <td>2001</td>\n",
              "      <td>5426 40th Ave W</td>\n",
              "      <td>Seattle</td>\n",
              "      <td>WA 98199</td>\n",
              "      <td>USA</td>\n",
              "    </tr>\n",
              "    <tr>\n",
              "      <th>4350</th>\n",
              "      <td>2014-07-03 00:00:00</td>\n",
              "      <td>26590000.0</td>\n",
              "      <td>3.0</td>\n",
              "      <td>2.00</td>\n",
              "      <td>1180</td>\n",
              "      <td>7793</td>\n",
              "      <td>1.0</td>\n",
              "      <td>0</td>\n",
              "      <td>0</td>\n",
              "      <td>4</td>\n",
              "      <td>1180</td>\n",
              "      <td>0</td>\n",
              "      <td>1992</td>\n",
              "      <td>0</td>\n",
              "      <td>12005 SE 219th Ct</td>\n",
              "      <td>Kent</td>\n",
              "      <td>WA 98031</td>\n",
              "      <td>USA</td>\n",
              "    </tr>\n",
              "  </tbody>\n",
              "</table>\n",
              "</div>\n",
              "      <button class=\"colab-df-convert\" onclick=\"convertToInteractive('df-f691e451-d391-4642-a1c3-57f166fb22c5')\"\n",
              "              title=\"Convert this dataframe to an interactive table.\"\n",
              "              style=\"display:none;\">\n",
              "        \n",
              "  <svg xmlns=\"http://www.w3.org/2000/svg\" height=\"24px\"viewBox=\"0 0 24 24\"\n",
              "       width=\"24px\">\n",
              "    <path d=\"M0 0h24v24H0V0z\" fill=\"none\"/>\n",
              "    <path d=\"M18.56 5.44l.94 2.06.94-2.06 2.06-.94-2.06-.94-.94-2.06-.94 2.06-2.06.94zm-11 1L8.5 8.5l.94-2.06 2.06-.94-2.06-.94L8.5 2.5l-.94 2.06-2.06.94zm10 10l.94 2.06.94-2.06 2.06-.94-2.06-.94-.94-2.06-.94 2.06-2.06.94z\"/><path d=\"M17.41 7.96l-1.37-1.37c-.4-.4-.92-.59-1.43-.59-.52 0-1.04.2-1.43.59L10.3 9.45l-7.72 7.72c-.78.78-.78 2.05 0 2.83L4 21.41c.39.39.9.59 1.41.59.51 0 1.02-.2 1.41-.59l7.78-7.78 2.81-2.81c.8-.78.8-2.07 0-2.86zM5.41 20L4 18.59l7.72-7.72 1.47 1.35L5.41 20z\"/>\n",
              "  </svg>\n",
              "      </button>\n",
              "      \n",
              "  <style>\n",
              "    .colab-df-container {\n",
              "      display:flex;\n",
              "      flex-wrap:wrap;\n",
              "      gap: 12px;\n",
              "    }\n",
              "\n",
              "    .colab-df-convert {\n",
              "      background-color: #E8F0FE;\n",
              "      border: none;\n",
              "      border-radius: 50%;\n",
              "      cursor: pointer;\n",
              "      display: none;\n",
              "      fill: #1967D2;\n",
              "      height: 32px;\n",
              "      padding: 0 0 0 0;\n",
              "      width: 32px;\n",
              "    }\n",
              "\n",
              "    .colab-df-convert:hover {\n",
              "      background-color: #E2EBFA;\n",
              "      box-shadow: 0px 1px 2px rgba(60, 64, 67, 0.3), 0px 1px 3px 1px rgba(60, 64, 67, 0.15);\n",
              "      fill: #174EA6;\n",
              "    }\n",
              "\n",
              "    [theme=dark] .colab-df-convert {\n",
              "      background-color: #3B4455;\n",
              "      fill: #D2E3FC;\n",
              "    }\n",
              "\n",
              "    [theme=dark] .colab-df-convert:hover {\n",
              "      background-color: #434B5C;\n",
              "      box-shadow: 0px 1px 3px 1px rgba(0, 0, 0, 0.15);\n",
              "      filter: drop-shadow(0px 1px 2px rgba(0, 0, 0, 0.3));\n",
              "      fill: #FFFFFF;\n",
              "    }\n",
              "  </style>\n",
              "\n",
              "      <script>\n",
              "        const buttonEl =\n",
              "          document.querySelector('#df-f691e451-d391-4642-a1c3-57f166fb22c5 button.colab-df-convert');\n",
              "        buttonEl.style.display =\n",
              "          google.colab.kernel.accessAllowed ? 'block' : 'none';\n",
              "\n",
              "        async function convertToInteractive(key) {\n",
              "          const element = document.querySelector('#df-f691e451-d391-4642-a1c3-57f166fb22c5');\n",
              "          const dataTable =\n",
              "            await google.colab.kernel.invokeFunction('convertToInteractive',\n",
              "                                                     [key], {});\n",
              "          if (!dataTable) return;\n",
              "\n",
              "          const docLinkHtml = 'Like what you see? Visit the ' +\n",
              "            '<a target=\"_blank\" href=https://colab.research.google.com/notebooks/data_table.ipynb>data table notebook</a>'\n",
              "            + ' to learn more about interactive tables.';\n",
              "          element.innerHTML = '';\n",
              "          dataTable['output_type'] = 'display_data';\n",
              "          await google.colab.output.renderOutput(dataTable, element);\n",
              "          const docLink = document.createElement('div');\n",
              "          docLink.innerHTML = docLinkHtml;\n",
              "          element.appendChild(docLink);\n",
              "        }\n",
              "      </script>\n",
              "    </div>\n",
              "  </div>\n",
              "  "
            ]
          },
          "metadata": {},
          "execution_count": 8
        }
      ]
    },
    {
      "cell_type": "code",
      "source": [
        "no_percentile.price"
      ],
      "metadata": {
        "colab": {
          "base_uri": "https://localhost:8080/"
        },
        "id": "Cn4VUy35vRln",
        "outputId": "e474fdad-dc7e-4350-e629-adcf051efda5"
      },
      "execution_count": 9,
      "outputs": [
        {
          "output_type": "execute_result",
          "data": {
            "text/plain": [
              "0       3.130000e+05\n",
              "1       2.384000e+06\n",
              "2       3.420000e+05\n",
              "3       4.200000e+05\n",
              "4       5.500000e+05\n",
              "            ...     \n",
              "4595    3.081667e+05\n",
              "4596    5.343333e+05\n",
              "4597    4.169042e+05\n",
              "4598    2.034000e+05\n",
              "4599    2.206000e+05\n",
              "Name: price, Length: 4537, dtype: float64"
            ]
          },
          "metadata": {},
          "execution_count": 9
        }
      ]
    },
    {
      "cell_type": "code",
      "source": [
        "sns.histplot(no_percentile.price,bins=20)"
      ],
      "metadata": {
        "colab": {
          "base_uri": "https://localhost:8080/",
          "height": 296
        },
        "id": "rOZQVJ2ZvjRT",
        "outputId": "ddd1c5a0-dc75-4e45-fef2-4d7eb633206a"
      },
      "execution_count": 10,
      "outputs": [
        {
          "output_type": "execute_result",
          "data": {
            "text/plain": [
              "<matplotlib.axes._subplots.AxesSubplot at 0x7f50b5aee690>"
            ]
          },
          "metadata": {},
          "execution_count": 10
        },
        {
          "output_type": "display_data",
          "data": {
            "text/plain": [
              "<Figure size 432x288 with 1 Axes>"
            ],
            "image/png": "[encoded data removed]"
          },
          "metadata": {
            "needs_background": "light"
          }
        }
      ]
    },
    {
      "cell_type": "code",
      "source": [
        "df['Z_score']= (df.price - df.price.mean())/df.price.std()"
      ],
      "metadata": {
        "id": "F0pSLuun-UUj"
      },
      "execution_count": 11,
      "outputs": []
    },
    {
      "cell_type": "code",
      "source": [
        "df.Z_score"
      ],
      "metadata": {
        "id": "hig1nTHt-81N",
        "colab": {
          "base_uri": "https://localhost:8080/"
        },
        "outputId": "31601b25-50d7-43c0-f826-05dc773fede0"
      },
      "execution_count": 12,
      "outputs": [
        {
          "output_type": "execute_result",
          "data": {
            "text/plain": [
              "0      -0.423817\n",
              "1       3.249245\n",
              "2      -0.372384\n",
              "3      -0.234046\n",
              "4      -0.003481\n",
              "          ...   \n",
              "4595   -0.432390\n",
              "4596   -0.031267\n",
              "4597   -0.239536\n",
              "4598   -0.618201\n",
              "4599   -0.587695\n",
              "Name: Z_score, Length: 4600, dtype: float64"
            ]
          },
          "metadata": {},
          "execution_count": 12
        }
      ]
    },
    {
      "cell_type": "code",
      "source": [
        "df.shape"
      ],
      "metadata": {
        "colab": {
          "base_uri": "https://localhost:8080/"
        },
        "id": "nqzzk8Xi_iAB",
        "outputId": "6f6f5b33-a45b-4dbc-9f6d-6fd77b87ab11"
      },
      "execution_count": 13,
      "outputs": [
        {
          "output_type": "execute_result",
          "data": {
            "text/plain": [
              "(4600, 19)"
            ]
          },
          "metadata": {},
          "execution_count": 13
        }
      ]
    },
    {
      "cell_type": "code",
      "source": [
        "no_percentile.shape #more precise cheking and outliers remove "
      ],
      "metadata": {
        "colab": {
          "base_uri": "https://localhost:8080/"
        },
        "id": "mvOZ6ZV6_0V4",
        "outputId": "19cb8689-debe-425f-bcea-f73c50998087"
      },
      "execution_count": 14,
      "outputs": [
        {
          "output_type": "execute_result",
          "data": {
            "text/plain": [
              "(4537, 18)"
            ]
          },
          "metadata": {},
          "execution_count": 14
        }
      ]
    },
    {
      "cell_type": "code",
      "source": [
        "#Remove outliers;\n",
        "no_outliers = df[(df.Z_score > -3) & (df.Z_score < 3)]\n",
        "no_outliers.shape"
      ],
      "metadata": {
        "colab": {
          "base_uri": "https://localhost:8080/"
        },
        "id": "MDCL7xhQ_Hnn",
        "outputId": "2cba0b0c-5abd-41bf-e36c-ec78bdfbb5d2"
      },
      "execution_count": 15,
      "outputs": [
        {
          "output_type": "execute_result",
          "data": {
            "text/plain": [
              "(4566, 19)"
            ]
          },
          "metadata": {},
          "execution_count": 15
        }
      ]
    },
    {
      "cell_type": "code",
      "source": [
        "no_outliers[['city', 'price']].sample(5)"
      ],
      "metadata": {
        "colab": {
          "base_uri": "https://localhost:8080/",
          "height": 206
        },
        "id": "vykhCOydAJjG",
        "outputId": "a10654f1-b71e-4975-db9d-44c8d70c21e8"
      },
      "execution_count": 16,
      "outputs": [
        {
          "output_type": "execute_result",
          "data": {
            "text/plain": [
              "           city     price\n",
              "2436   Issaquah  680000.0\n",
              "4421    Bothell  425000.0\n",
              "2857       Kent  120000.0\n",
              "3100     Renton  470000.0\n",
              "4208  Sammamish  594950.0"
            ],
            "text/html": [
              "\n",
              "  <div id=\"df-b0241d93-f06e-434b-9d12-102d84890d7d\">\n",
              "    <div class=\"colab-df-container\">\n",
              "      <div>\n",
              "<style scoped>\n",
              "    .dataframe tbody tr th:only-of-type {\n",
              "        vertical-align: middle;\n",
              "    }\n",
              "\n",
              "    .dataframe tbody tr th {\n",
              "        vertical-align: top;\n",
              "    }\n",
              "\n",
              "    .dataframe thead th {\n",
              "        text-align: right;\n",
              "    }\n",
              "</style>\n",
              "<table border=\"1\" class=\"dataframe\">\n",
              "  <thead>\n",
              "    <tr style=\"text-align: right;\">\n",
              "      <th></th>\n",
              "      <th>city</th>\n",
              "      <th>price</th>\n",
              "    </tr>\n",
              "  </thead>\n",
              "  <tbody>\n",
              "    <tr>\n",
              "      <th>2436</th>\n",
              "      <td>Issaquah</td>\n",
              "      <td>680000.0</td>\n",
              "    </tr>\n",
              "    <tr>\n",
              "      <th>4421</th>\n",
              "      <td>Bothell</td>\n",
              "      <td>425000.0</td>\n",
              "    </tr>\n",
              "    <tr>\n",
              "      <th>2857</th>\n",
              "      <td>Kent</td>\n",
              "      <td>120000.0</td>\n",
              "    </tr>\n",
              "    <tr>\n",
              "      <th>3100</th>\n",
              "      <td>Renton</td>\n",
              "      <td>470000.0</td>\n",
              "    </tr>\n",
              "    <tr>\n",
              "      <th>4208</th>\n",
              "      <td>Sammamish</td>\n",
              "      <td>594950.0</td>\n",
              "    </tr>\n",
              "  </tbody>\n",
              "</table>\n",
              "</div>\n",
              "      <button class=\"colab-df-convert\" onclick=\"convertToInteractive('df-b0241d93-f06e-434b-9d12-102d84890d7d')\"\n",
              "              title=\"Convert this dataframe to an interactive table.\"\n",
              "              style=\"display:none;\">\n",
              "        \n",
              "  <svg xmlns=\"http://www.w3.org/2000/svg\" height=\"24px\"viewBox=\"0 0 24 24\"\n",
              "       width=\"24px\">\n",
              "    <path d=\"M0 0h24v24H0V0z\" fill=\"none\"/>\n",
              "    <path d=\"M18.56 5.44l.94 2.06.94-2.06 2.06-.94-2.06-.94-.94-2.06-.94 2.06-2.06.94zm-11 1L8.5 8.5l.94-2.06 2.06-.94-2.06-.94L8.5 2.5l-.94 2.06-2.06.94zm10 10l.94 2.06.94-2.06 2.06-.94-2.06-.94-.94-2.06-.94 2.06-2.06.94z\"/><path d=\"M17.41 7.96l-1.37-1.37c-.4-.4-.92-.59-1.43-.59-.52 0-1.04.2-1.43.59L10.3 9.45l-7.72 7.72c-.78.78-.78 2.05 0 2.83L4 21.41c.39.39.9.59 1.41.59.51 0 1.02-.2 1.41-.59l7.78-7.78 2.81-2.81c.8-.78.8-2.07 0-2.86zM5.41 20L4 18.59l7.72-7.72 1.47 1.35L5.41 20z\"/>\n",
              "  </svg>\n",
              "      </button>\n",
              "      \n",
              "  <style>\n",
              "    .colab-df-container {\n",
              "      display:flex;\n",
              "      flex-wrap:wrap;\n",
              "      gap: 12px;\n",
              "    }\n",
              "\n",
              "    .colab-df-convert {\n",
              "      background-color: #E8F0FE;\n",
              "      border: none;\n",
              "      border-radius: 50%;\n",
              "      cursor: pointer;\n",
              "      display: none;\n",
              "      fill: #1967D2;\n",
              "      height: 32px;\n",
              "      padding: 0 0 0 0;\n",
              "      width: 32px;\n",
              "    }\n",
              "\n",
              "    .colab-df-convert:hover {\n",
              "      background-color: #E2EBFA;\n",
              "      box-shadow: 0px 1px 2px rgba(60, 64, 67, 0.3), 0px 1px 3px 1px rgba(60, 64, 67, 0.15);\n",
              "      fill: #174EA6;\n",
              "    }\n",
              "\n",
              "    [theme=dark] .colab-df-convert {\n",
              "      background-color: #3B4455;\n",
              "      fill: #D2E3FC;\n",
              "    }\n",
              "\n",
              "    [theme=dark] .colab-df-convert:hover {\n",
              "      background-color: #434B5C;\n",
              "      box-shadow: 0px 1px 3px 1px rgba(0, 0, 0, 0.15);\n",
              "      filter: drop-shadow(0px 1px 2px rgba(0, 0, 0, 0.3));\n",
              "      fill: #FFFFFF;\n",
              "    }\n",
              "  </style>\n",
              "\n",
              "      <script>\n",
              "        const buttonEl =\n",
              "          document.querySelector('#df-b0241d93-f06e-434b-9d12-102d84890d7d button.colab-df-convert');\n",
              "        buttonEl.style.display =\n",
              "          google.colab.kernel.accessAllowed ? 'block' : 'none';\n",
              "\n",
              "        async function convertToInteractive(key) {\n",
              "          const element = document.querySelector('#df-b0241d93-f06e-434b-9d12-102d84890d7d');\n",
              "          const dataTable =\n",
              "            await google.colab.kernel.invokeFunction('convertToInteractive',\n",
              "                                                     [key], {});\n",
              "          if (!dataTable) return;\n",
              "\n",
              "          const docLinkHtml = 'Like what you see? Visit the ' +\n",
              "            '<a target=\"_blank\" href=https://colab.research.google.com/notebooks/data_table.ipynb>data table notebook</a>'\n",
              "            + ' to learn more about interactive tables.';\n",
              "          element.innerHTML = '';\n",
              "          dataTable['output_type'] = 'display_data';\n",
              "          await google.colab.output.renderOutput(dataTable, element);\n",
              "          const docLink = document.createElement('div');\n",
              "          docLink.innerHTML = docLinkHtml;\n",
              "          element.appendChild(docLink);\n",
              "        }\n",
              "      </script>\n",
              "    </div>\n",
              "  </div>\n",
              "  "
            ]
          },
          "metadata": {},
          "execution_count": 16
        }
      ]
    },
    {
      "cell_type": "code",
      "source": [
        "print(\"we have removed \",df.shape[0]-no_percentile.shape[0],\"outliers by percentile/quartile method\")\n",
        "print(\"we have removed \",df.shape[0]-no_outliers.shape[0],\"outliers by zscore method\")\n",
        "print(\"Use percentile method for more accurate results\")"
      ],
      "metadata": {
        "colab": {
          "base_uri": "https://localhost:8080/"
        },
        "id": "7JM-Z278AuCt",
        "outputId": "1ec50a26-b808-4a92-ce4b-315385b5ae73"
      },
      "execution_count": 17,
      "outputs": [
        {
          "output_type": "stream",
          "name": "stdout",
          "text": [
            "we have removed  63 outliers by percentile/quartile method\n",
            "we have removed  34 outliers by zscore method\n",
            "Use percentile method for more accurate results\n"
          ]
        }
      ]
    },
    {
      "cell_type": "code",
      "source": [
        "# to find percentile\n",
        "\n",
        "q1,q3 = np.percentile(df.price , [25,75])"
      ],
      "metadata": {
        "id": "wy5yVggqBaGq"
      },
      "execution_count": 18,
      "outputs": []
    },
    {
      "cell_type": "code",
      "source": [
        "#IQR Method \n",
        "#inter quartile range \n",
        "Iqr = q3 - q1\n",
        "lower_limit = q1 - 1.5*Iqr\n",
        "Upper_limit = q3 - 1.5*Iqr\n"
      ],
      "metadata": {
        "id": "IjY53LJ6CefU"
      },
      "execution_count": 19,
      "outputs": []
    },
    {
      "cell_type": "code",
      "source": [
        "df[(df.price > lower_limit) | (df.price < Upper_limit)].sample(2)"
      ],
      "metadata": {
        "colab": {
          "base_uri": "https://localhost:8080/",
          "height": 263
        },
        "id": "czbdy2L1C-t3",
        "outputId": "8f47c14e-ebed-476e-9de9-ea81a7343861"
      },
      "execution_count": 20,
      "outputs": [
        {
          "output_type": "execute_result",
          "data": {
            "text/plain": [
              "                     date     price  bedrooms  bathrooms  sqft_living  \\\n",
              "2657  2014-06-17 00:00:00  640000.0       3.0       2.00         1380   \n",
              "741   2014-05-15 00:00:00  689900.0       4.0       3.25         2740   \n",
              "\n",
              "      sqft_lot  floors  waterfront  view  condition  sqft_above  \\\n",
              "2657      4800     1.0           0     0          3        1380   \n",
              "741       7266     2.0           0     0          3        2060   \n",
              "\n",
              "      sqft_basement  yr_built  yr_renovated                     street  \\\n",
              "2657              0      1948          1994             3415 9th Ave W   \n",
              "741             680      2003             0  392 Wilderness Peak Dr NW   \n",
              "\n",
              "          city  statezip country   Z_score  \n",
              "2657   Seattle  WA 98119     USA  0.156140  \n",
              "741   Issaquah  WA 98027     USA  0.244641  "
            ],
            "text/html": [
              "\n",
              "  <div id=\"df-84598895-0be6-4d85-8034-fe2a3c130b3c\">\n",
              "    <div class=\"colab-df-container\">\n",
              "      <div>\n",
              "<style scoped>\n",
              "    .dataframe tbody tr th:only-of-type {\n",
              "        vertical-align: middle;\n",
              "    }\n",
              "\n",
              "    .dataframe tbody tr th {\n",
              "        vertical-align: top;\n",
              "    }\n",
              "\n",
              "    .dataframe thead th {\n",
              "        text-align: right;\n",
              "    }\n",
              "</style>\n",
              "<table border=\"1\" class=\"dataframe\">\n",
              "  <thead>\n",
              "    <tr style=\"text-align: right;\">\n",
              "      <th></th>\n",
              "      <th>date</th>\n",
              "      <th>price</th>\n",
              "      <th>bedrooms</th>\n",
              "      <th>bathrooms</th>\n",
              "      <th>sqft_living</th>\n",
              "      <th>sqft_lot</th>\n",
              "      <th>floors</th>\n",
              "      <th>waterfront</th>\n",
              "      <th>view</th>\n",
              "      <th>condition</th>\n",
              "      <th>sqft_above</th>\n",
              "      <th>sqft_basement</th>\n",
              "      <th>yr_built</th>\n",
              "      <th>yr_renovated</th>\n",
              "      <th>street</th>\n",
              "      <th>city</th>\n",
              "      <th>statezip</th>\n",
              "      <th>country</th>\n",
              "      <th>Z_score</th>\n",
              "    </tr>\n",
              "  </thead>\n",
              "  <tbody>\n",
              "    <tr>\n",
              "      <th>2657</th>\n",
              "      <td>2014-06-17 00:00:00</td>\n",
              "      <td>640000.0</td>\n",
              "      <td>3.0</td>\n",
              "      <td>2.00</td>\n",
              "      <td>1380</td>\n",
              "      <td>4800</td>\n",
              "      <td>1.0</td>\n",
              "      <td>0</td>\n",
              "      <td>0</td>\n",
              "      <td>3</td>\n",
              "      <td>1380</td>\n",
              "      <td>0</td>\n",
              "      <td>1948</td>\n",
              "      <td>1994</td>\n",
              "      <td>3415 9th Ave W</td>\n",
              "      <td>Seattle</td>\n",
              "      <td>WA 98119</td>\n",
              "      <td>USA</td>\n",
              "      <td>0.156140</td>\n",
              "    </tr>\n",
              "    <tr>\n",
              "      <th>741</th>\n",
              "      <td>2014-05-15 00:00:00</td>\n",
              "      <td>689900.0</td>\n",
              "      <td>4.0</td>\n",
              "      <td>3.25</td>\n",
              "      <td>2740</td>\n",
              "      <td>7266</td>\n",
              "      <td>2.0</td>\n",
              "      <td>0</td>\n",
              "      <td>0</td>\n",
              "      <td>3</td>\n",
              "      <td>2060</td>\n",
              "      <td>680</td>\n",
              "      <td>2003</td>\n",
              "      <td>0</td>\n",
              "      <td>392 Wilderness Peak Dr NW</td>\n",
              "      <td>Issaquah</td>\n",
              "      <td>WA 98027</td>\n",
              "      <td>USA</td>\n",
              "      <td>0.244641</td>\n",
              "    </tr>\n",
              "  </tbody>\n",
              "</table>\n",
              "</div>\n",
              "      <button class=\"colab-df-convert\" onclick=\"convertToInteractive('df-84598895-0be6-4d85-8034-fe2a3c130b3c')\"\n",
              "              title=\"Convert this dataframe to an interactive table.\"\n",
              "              style=\"display:none;\">\n",
              "        \n",
              "  <svg xmlns=\"http://www.w3.org/2000/svg\" height=\"24px\"viewBox=\"0 0 24 24\"\n",
              "       width=\"24px\">\n",
              "    <path d=\"M0 0h24v24H0V0z\" fill=\"none\"/>\n",
              "    <path d=\"M18.56 5.44l.94 2.06.94-2.06 2.06-.94-2.06-.94-.94-2.06-.94 2.06-2.06.94zm-11 1L8.5 8.5l.94-2.06 2.06-.94-2.06-.94L8.5 2.5l-.94 2.06-2.06.94zm10 10l.94 2.06.94-2.06 2.06-.94-2.06-.94-.94-2.06-.94 2.06-2.06.94z\"/><path d=\"M17.41 7.96l-1.37-1.37c-.4-.4-.92-.59-1.43-.59-.52 0-1.04.2-1.43.59L10.3 9.45l-7.72 7.72c-.78.78-.78 2.05 0 2.83L4 21.41c.39.39.9.59 1.41.59.51 0 1.02-.2 1.41-.59l7.78-7.78 2.81-2.81c.8-.78.8-2.07 0-2.86zM5.41 20L4 18.59l7.72-7.72 1.47 1.35L5.41 20z\"/>\n",
              "  </svg>\n",
              "      </button>\n",
              "      \n",
              "  <style>\n",
              "    .colab-df-container {\n",
              "      display:flex;\n",
              "      flex-wrap:wrap;\n",
              "      gap: 12px;\n",
              "    }\n",
              "\n",
              "    .colab-df-convert {\n",
              "      background-color: #E8F0FE;\n",
              "      border: none;\n",
              "      border-radius: 50%;\n",
              "      cursor: pointer;\n",
              "      display: none;\n",
              "      fill: #1967D2;\n",
              "      height: 32px;\n",
              "      padding: 0 0 0 0;\n",
              "      width: 32px;\n",
              "    }\n",
              "\n",
              "    .colab-df-convert:hover {\n",
              "      background-color: #E2EBFA;\n",
              "      box-shadow: 0px 1px 2px rgba(60, 64, 67, 0.3), 0px 1px 3px 1px rgba(60, 64, 67, 0.15);\n",
              "      fill: #174EA6;\n",
              "    }\n",
              "\n",
              "    [theme=dark] .colab-df-convert {\n",
              "      background-color: #3B4455;\n",
              "      fill: #D2E3FC;\n",
              "    }\n",
              "\n",
              "    [theme=dark] .colab-df-convert:hover {\n",
              "      background-color: #434B5C;\n",
              "      box-shadow: 0px 1px 3px 1px rgba(0, 0, 0, 0.15);\n",
              "      filter: drop-shadow(0px 1px 2px rgba(0, 0, 0, 0.3));\n",
              "      fill: #FFFFFF;\n",
              "    }\n",
              "  </style>\n",
              "\n",
              "      <script>\n",
              "        const buttonEl =\n",
              "          document.querySelector('#df-84598895-0be6-4d85-8034-fe2a3c130b3c button.colab-df-convert');\n",
              "        buttonEl.style.display =\n",
              "          google.colab.kernel.accessAllowed ? 'block' : 'none';\n",
              "\n",
              "        async function convertToInteractive(key) {\n",
              "          const element = document.querySelector('#df-84598895-0be6-4d85-8034-fe2a3c130b3c');\n",
              "          const dataTable =\n",
              "            await google.colab.kernel.invokeFunction('convertToInteractive',\n",
              "                                                     [key], {});\n",
              "          if (!dataTable) return;\n",
              "\n",
              "          const docLinkHtml = 'Like what you see? Visit the ' +\n",
              "            '<a target=\"_blank\" href=https://colab.research.google.com/notebooks/data_table.ipynb>data table notebook</a>'\n",
              "            + ' to learn more about interactive tables.';\n",
              "          element.innerHTML = '';\n",
              "          dataTable['output_type'] = 'display_data';\n",
              "          await google.colab.output.renderOutput(dataTable, element);\n",
              "          const docLink = document.createElement('div');\n",
              "          docLink.innerHTML = docLinkHtml;\n",
              "          element.appendChild(docLink);\n",
              "        }\n",
              "      </script>\n",
              "    </div>\n",
              "  </div>\n",
              "  "
            ]
          },
          "metadata": {},
          "execution_count": 20
        }
      ]
    },
    {
      "cell_type": "code",
      "source": [
        "df.city.groupby((df.yr_built)).max()"
      ],
      "metadata": {
        "colab": {
          "base_uri": "https://localhost:8080/"
        },
        "id": "Hp__r3nGGMGF",
        "outputId": "daca86f6-ba6c-45ff-f5c5-8502f8a0e900"
      },
      "execution_count": 21,
      "outputs": [
        {
          "output_type": "execute_result",
          "data": {
            "text/plain": [
              "yr_built\n",
              "1900        Tukwila\n",
              "1901        Seattle\n",
              "1902        Seattle\n",
              "1903        Seattle\n",
              "1904        Seattle\n",
              "           ...     \n",
              "2010     Snoqualmie\n",
              "2011        Seattle\n",
              "2012     Snoqualmie\n",
              "2013    Woodinville\n",
              "2014     Snoqualmie\n",
              "Name: city, Length: 115, dtype: object"
            ]
          },
          "metadata": {},
          "execution_count": 21
        }
      ]
    },
    {
      "cell_type": "code",
      "source": [
        "df = df.fillna(df.price.median)"
      ],
      "metadata": {
        "id": "Ey4tmjJfHEcq"
      },
      "execution_count": 22,
      "outputs": []
    }
  ]
}